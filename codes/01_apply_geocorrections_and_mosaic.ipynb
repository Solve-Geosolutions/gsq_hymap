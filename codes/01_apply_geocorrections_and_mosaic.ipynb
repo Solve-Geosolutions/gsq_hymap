{
 "cells": [
  {
   "cell_type": "markdown",
   "metadata": {},
   "source": [
    "# Geocorrection & Mosaicing\n",
    "\n",
    "This notebook applies pre-computed geometric corrections present in the GSQ hyperspectral data sets to generate georeferenced hyperspectral ENVI data cubes for each flight swath. Swaths are then combined into a single data cube mosaic."
   ]
  },
  {
   "cell_type": "code",
   "execution_count": 1,
   "metadata": {},
   "outputs": [],
   "source": [
    "# import standard libaries\n",
    "import os, warnings, subprocess\n",
    "import numpy as np\n",
    "from tqdm import tqdm\n",
    "import matplotlib.pyplot as plt\n",
    "\n",
    "# import gis libraries\n",
    "import rasterio\n",
    "from osgeo import gdal\n",
    "\n",
    "# filter warnings for tidy output\n",
    "warnings.filterwarnings(\"ignore\")"
   ]
  },
  {
   "cell_type": "markdown",
   "metadata": {},
   "source": [
    "## 1. Find Files\n",
    "\n",
    "Find the processed reflectance swath data and their corresponding geometry lookup tables."
   ]
  },
  {
   "cell_type": "code",
   "execution_count": 2,
   "metadata": {},
   "outputs": [
    {
     "data": {
      "text/plain": [
       "(['/storage/gsq_hymap/raw/block-d/nrm_28/reflectance/nrm_28_ref.bil',\n",
       "  '/storage/gsq_hymap/raw/block-d/nrm_29/reflectance/nrm_29_ref.bil',\n",
       "  '/storage/gsq_hymap/raw/block-d/nrm_30/reflectance/nrm_30_ref.bil',\n",
       "  '/storage/gsq_hymap/raw/block-d/nrm_31/reflectance/nrm_31_ref.bil',\n",
       "  '/storage/gsq_hymap/raw/block-d/nrm_32/reflectance/nrm_32_ref.bil',\n",
       "  '/storage/gsq_hymap/raw/block-d/nrm_33/reflectance/nrm_33_ref.bil',\n",
       "  '/storage/gsq_hymap/raw/block-d/nrm_34/reflectance/nrm_34_ref.bil',\n",
       "  '/storage/gsq_hymap/raw/block-d/nrm_35/reflectance/nrm_35_ref.bil',\n",
       "  '/storage/gsq_hymap/raw/block-d/nrm_36/reflectance/nrm_36_ref.bil',\n",
       "  '/storage/gsq_hymap/raw/block-d/nrm_37/reflectance/nrm_37_ref.bil'],\n",
       " ['/storage/gsq_hymap/raw/block-d/nrm_28/geocorrection/nrm_28_glt.bsq',\n",
       "  '/storage/gsq_hymap/raw/block-d/nrm_29/geocorrection/nrm_29_glt.bsq',\n",
       "  '/storage/gsq_hymap/raw/block-d/nrm_30/geocorrection/nrm_30_glt.bsq',\n",
       "  '/storage/gsq_hymap/raw/block-d/nrm_31/geocorrection/nrm_31_glt.bsq',\n",
       "  '/storage/gsq_hymap/raw/block-d/nrm_32/geocorrection/nrm_32_glt.bsq',\n",
       "  '/storage/gsq_hymap/raw/block-d/nrm_33/geocorrection/nrm_33_glt.bsq',\n",
       "  '/storage/gsq_hymap/raw/block-d/nrm_34/geocorrection/nrm_34_glt.bsq',\n",
       "  '/storage/gsq_hymap/raw/block-d/nrm_35/geocorrection/nrm_35_glt.bsq',\n",
       "  '/storage/gsq_hymap/raw/block-d/nrm_36/geocorrection/nrm_36_glt.bsq',\n",
       "  '/storage/gsq_hymap/raw/block-d/nrm_37/geocorrection/nrm_37_glt.bsq'])"
      ]
     },
     "execution_count": 2,
     "metadata": {},
     "output_type": "execute_result"
    }
   ],
   "source": [
    "# set paths to unzipped data directory for survey block D\n",
    "data_dir = r'/storage/gsq_hymap/raw/block-d'\n",
    "\n",
    "# get paths to geometry lookup table & reflectance BIL grids\n",
    "glt_fns, ref_fns = [], []\n",
    "for path, subdirs, files in os.walk(data_dir):\n",
    "  for name in files:\n",
    "    if 'ref.bil' in name:\n",
    "      ref_fns.append(os.path.join(path, name))\n",
    "    if 'glt.bsq' in name:\n",
    "      glt_fns.append(os.path.join(path, name))\n",
    "\n",
    "sorted(ref_fns), sorted(glt_fns)"
   ]
  },
  {
   "cell_type": "markdown",
   "metadata": {},
   "source": [
    "## 2. Apply Geometric Corrections to Swaths\n",
    "\n",
    "Use the geometry lookup table rasters and reflectance data cubes to generate georeferenced ENVI grids containing the reflectance data for each flight swath. I used information about lookup tables from the [L3HarrisGeospatial website](https://www.l3harrisgeospatial.com/docs/georeferencefrominputgeometry.html#Georefer2) to figure out how they relate to the reflactance BIL files."
   ]
  },
  {
   "cell_type": "code",
   "execution_count": 3,
   "metadata": {},
   "outputs": [
    {
     "name": "stderr",
     "output_type": "stream",
     "text": [
      "100%|██████████| 126/126 [00:08<00:00, 15.66it/s]\n"
     ]
    },
    {
     "name": "stdout",
     "output_type": "stream",
     "text": [
      "Saved ENVI grid: /storage/gsq_hymap/interim/nrm_28_geocor_ref.dat\n"
     ]
    },
    {
     "name": "stderr",
     "output_type": "stream",
     "text": [
      "100%|██████████| 126/126 [00:17<00:00,  7.35it/s]\n"
     ]
    },
    {
     "name": "stdout",
     "output_type": "stream",
     "text": [
      "Saved ENVI grid: /storage/gsq_hymap/interim/nrm_29_geocor_ref.dat\n"
     ]
    },
    {
     "name": "stderr",
     "output_type": "stream",
     "text": [
      "100%|██████████| 126/126 [00:08<00:00, 15.01it/s]\n"
     ]
    },
    {
     "name": "stdout",
     "output_type": "stream",
     "text": [
      "Saved ENVI grid: /storage/gsq_hymap/interim/nrm_30_geocor_ref.dat\n"
     ]
    },
    {
     "name": "stderr",
     "output_type": "stream",
     "text": [
      "100%|██████████| 126/126 [00:10<00:00, 11.88it/s]\n"
     ]
    },
    {
     "name": "stdout",
     "output_type": "stream",
     "text": [
      "Saved ENVI grid: /storage/gsq_hymap/interim/nrm_31_geocor_ref.dat\n"
     ]
    },
    {
     "name": "stderr",
     "output_type": "stream",
     "text": [
      "100%|██████████| 126/126 [00:11<00:00, 11.24it/s]\n"
     ]
    },
    {
     "name": "stdout",
     "output_type": "stream",
     "text": [
      "Saved ENVI grid: /storage/gsq_hymap/interim/nrm_32_geocor_ref.dat\n"
     ]
    },
    {
     "name": "stderr",
     "output_type": "stream",
     "text": [
      "100%|██████████| 126/126 [00:13<00:00,  9.11it/s]\n"
     ]
    },
    {
     "name": "stdout",
     "output_type": "stream",
     "text": [
      "Saved ENVI grid: /storage/gsq_hymap/interim/nrm_33_geocor_ref.dat\n"
     ]
    },
    {
     "name": "stderr",
     "output_type": "stream",
     "text": [
      "100%|██████████| 126/126 [00:13<00:00,  9.11it/s]\n"
     ]
    },
    {
     "name": "stdout",
     "output_type": "stream",
     "text": [
      "Saved ENVI grid: /storage/gsq_hymap/interim/nrm_34_geocor_ref.dat\n"
     ]
    },
    {
     "name": "stderr",
     "output_type": "stream",
     "text": [
      "100%|██████████| 126/126 [00:15<00:00,  7.96it/s]\n"
     ]
    },
    {
     "name": "stdout",
     "output_type": "stream",
     "text": [
      "Saved ENVI grid: /storage/gsq_hymap/interim/nrm_35_geocor_ref.dat\n"
     ]
    },
    {
     "name": "stderr",
     "output_type": "stream",
     "text": [
      "100%|██████████| 126/126 [00:18<00:00,  6.89it/s]\n"
     ]
    },
    {
     "name": "stdout",
     "output_type": "stream",
     "text": [
      "Saved ENVI grid: /storage/gsq_hymap/interim/nrm_36_geocor_ref.dat\n"
     ]
    },
    {
     "name": "stderr",
     "output_type": "stream",
     "text": [
      "100%|██████████| 126/126 [00:20<00:00,  6.29it/s]\n"
     ]
    },
    {
     "name": "stdout",
     "output_type": "stream",
     "text": [
      "Saved ENVI grid: /storage/gsq_hymap/interim/nrm_37_geocor_ref.dat\n"
     ]
    }
   ],
   "source": [
    "# set an output path\n",
    "interim_dir = r'/storage/gsq_hymap/interim'\n",
    "\n",
    "# loop through the files, apply the geometry lookup table to create a georeferenced hypersepctral ENVI grid\n",
    "for ref_fn, glt_fn in zip(sorted(ref_fns), sorted(glt_fns)):\n",
    "  with rasterio.open(ref_fn,'r') as ref_src, rasterio.open(glt_fn,'r') as glt_src:\n",
    "    # create output shape tuple, create metadata dictionary for output\n",
    "    out_shape = (ref_src.count, glt_src.height, glt_src.width)\n",
    "    meta = glt_src.meta.copy()\n",
    "    meta.update({'count':out_shape[0], 'drive':'ENVI', 'nodata':-999, 'dtype':ref_src.dtypes[0]})\n",
    "    # create output file name and read hyperspectral band names into nanometres\n",
    "    out_fn = os.path.join(interim_dir, os.path.basename(ref_fn).replace('ref.bil','geocor_ref.dat'))\n",
    "    bands = ['{}nm'.format(round(float(x.split()[-1].strip('()'))*1000,2)) for x in ref_src.descriptions]\n",
    "    # read the geometry lookup table containing spatial coordinates for raw hyperspectral pixel indices\n",
    "    gxy = glt_src.read() \n",
    "    # read the hyperspectral data cube into memory, create an output array\n",
    "    hysp_dat = ref_src.read()\n",
    "    out_dat = np.ones(out_shape, dtype=hysp_dat.dtype) * -999\n",
    "    # get masks for geometry lookup pixels with non-zero pixel indices (negatives are nearest neighbour infil)\n",
    "    pos_idx = gxy[0] > 0\n",
    "    neg_idx = gxy[0] < 0\n",
    "    # insert hyperspectral data into the output array for the positive indices, subtract 1 for pythonic indexing\n",
    "    out_dat[:, pos_idx] = hysp_dat[:, gxy[1,pos_idx].flatten() - 1, gxy[0,pos_idx].flatten() - 1]\n",
    "    # insert hyperspectral data into output for the negative indices, subtract 1 again for pythonic indexing\n",
    "    out_dat[:, neg_idx] = hysp_dat[:, abs(gxy[1,neg_idx].flatten()) - 1, abs(gxy[0,neg_idx].flatten()) - 1]\n",
    "    # save the output data\n",
    "    with rasterio.open(out_fn,'w',**meta) as dst:\n",
    "      for i in tqdm(range(out_shape[0])):\n",
    "        dst.write(out_dat[i],i+1)\n",
    "        dst.set_band_description(i+1, bands[i])\n",
    "      dst.close()\n",
    "    glt_src.close()\n",
    "    ref_src.close()\n",
    "    # print progress\n",
    "    print(f'Saved ENVI grid: {out_fn}')"
   ]
  },
  {
   "cell_type": "markdown",
   "metadata": {},
   "source": [
    "## 3. Generate Mosaic With GDAL\n",
    "\n",
    "Use GDAL to mosaic the now georeferenced swath data cubes into a new data cube. This is a pretty slow procedure leveraging GDAL's virtual raster and translate modules. Another key point to note here is that we are not applying a levelling workflow so we will likely get a mosaic with significant acquisition swath artefacts. Advice on a faster and/or more appropriate method for mosaicing would be greatly appreciated here."
   ]
  },
  {
   "cell_type": "code",
   "execution_count": 2,
   "metadata": {},
   "outputs": [
    {
     "data": {
      "text/plain": [
       "['/storage/gsq_hymap/interim/nrm_28_geocor_ref.dat',\n",
       " '/storage/gsq_hymap/interim/nrm_29_geocor_ref.dat',\n",
       " '/storage/gsq_hymap/interim/nrm_30_geocor_ref.dat',\n",
       " '/storage/gsq_hymap/interim/nrm_31_geocor_ref.dat',\n",
       " '/storage/gsq_hymap/interim/nrm_32_geocor_ref.dat',\n",
       " '/storage/gsq_hymap/interim/nrm_33_geocor_ref.dat',\n",
       " '/storage/gsq_hymap/interim/nrm_34_geocor_ref.dat',\n",
       " '/storage/gsq_hymap/interim/nrm_35_geocor_ref.dat',\n",
       " '/storage/gsq_hymap/interim/nrm_36_geocor_ref.dat',\n",
       " '/storage/gsq_hymap/interim/nrm_37_geocor_ref.dat']"
      ]
     },
     "execution_count": 2,
     "metadata": {},
     "output_type": "execute_result"
    }
   ],
   "source": [
    "# generate a list of output files to mosaic\n",
    "interim_dir = r'/storage/gsq_hymap/interim'\n",
    "swath_fns = sorted([os.path.join(interim_dir,x) for x in os.listdir(interim_dir) if x.endswith('ref.dat')])\n",
    "swath_fns"
   ]
  },
  {
   "cell_type": "code",
   "execution_count": 3,
   "metadata": {},
   "outputs": [
    {
     "name": "stdout",
     "output_type": "stream",
     "text": [
      "Virtual raster created\n",
      "ENVI raster created\n"
     ]
    }
   ],
   "source": [
    "# set output file paths\n",
    "out_dir = r'/storage/gsq_hymap/processed'\n",
    "out_vrt = os.path.join(out_dir, 'GSQ_block-d_mosaic_ref.vrt') \n",
    "out_envi = os.path.join(out_dir, 'GSQ_block-d_mosaic_ref.dat') \n",
    "\n",
    "# create a virtual raster, use nearest neighbour resampling for speed\n",
    "vrt_options = gdal.BuildVRTOptions(resampleAlg='near', addAlpha=False)\n",
    "vrt = gdal.BuildVRT(out_vrt, swath_fns, options=vrt_options)\n",
    "vrt = None\n",
    "print('Virtual raster created')\n",
    "\n",
    "# create a mosaic ENVI grid from the virtual raster\n",
    "src_vrt = gdal.Open(out_vrt)\n",
    "out_dst = gdal.Translate(out_envi, src_vrt, options=['-of','ENVI'])\n",
    "out_dst = None\n",
    "print('ENVI raster created')\n",
    "\n",
    "# add band names to the ENVI output file\n",
    "bands = [x for x in rasterio.open(swath_fns[0],'r').descriptions]\n",
    "with rasterio.open(out_envi, 'r+') as dst:\n",
    "  for i in range(len(bands)):\n",
    "    dst.set_band_description(i+1, bands[i])\n",
    "  dst.close()\n",
    "\n",
    "# remove virtual raster\n",
    "os.remove(out_vrt)"
   ]
  }
 ],
 "metadata": {
  "kernelspec": {
   "display_name": "Python 3.7.13 ('datasci_env')",
   "language": "python",
   "name": "python3"
  },
  "language_info": {
   "codemirror_mode": {
    "name": "ipython",
    "version": 3
   },
   "file_extension": ".py",
   "mimetype": "text/x-python",
   "name": "python",
   "nbconvert_exporter": "python",
   "pygments_lexer": "ipython3",
   "version": "3.7.13"
  },
  "orig_nbformat": 4,
  "vscode": {
   "interpreter": {
    "hash": "0c6dc968669bff6289b700d497b42c1c3d1f02c9096b405ff817af255662c7ec"
   }
  }
 },
 "nbformat": 4,
 "nbformat_minor": 2
}
