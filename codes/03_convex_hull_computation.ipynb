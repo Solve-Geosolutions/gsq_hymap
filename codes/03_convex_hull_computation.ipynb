{
 "cells": [
  {
   "cell_type": "markdown",
   "metadata": {},
   "source": [
    "# Convex Hull Continuum Removal\n",
    "\n",
    "This notebook reads the hyperspectral mosaic, calculates a convex hull and outputs a convex hull continuum removed data set."
   ]
  },
  {
   "cell_type": "code",
   "execution_count": 1,
   "metadata": {},
   "outputs": [],
   "source": [
    "# import standard libaries\n",
    "import os, warnings, subprocess\n",
    "import numpy as np\n",
    "from tqdm import tqdm\n",
    "import matplotlib.pyplot as plt\n",
    "\n",
    "# import gis libraries\n",
    "import rasterio\n",
    "\n",
    "# import convex hull module from Scipy\n",
    "from scipy.spatial import ConvexHull\n",
    "\n",
    "# filter warnings for tidy output\n",
    "warnings.filterwarnings(\"ignore\")"
   ]
  },
  {
   "cell_type": "markdown",
   "metadata": {},
   "source": [
    "## 1. Run Convex Hull Removal\n",
    "\n",
    "This is a pretty slow workflow that runs a pixel-wise convex hull removal processing step inspired by Ben Chi's [*Reading TSG Files*](https://www.fractalgeoanalytics.com/articles/reading-tsg-files/) blogpost."
   ]
  },
  {
   "cell_type": "code",
   "execution_count": 3,
   "metadata": {},
   "outputs": [
    {
     "name": "stderr",
     "output_type": "stream",
     "text": [
      " 18%|█▊        | 1279/7285 [09:27<1:27:52,  1.14it/s]"
     ]
    }
   ],
   "source": [
    "# set path to mosaic ENVI grid\n",
    "hsi_fn = r'/storage/gsq_hymap/processed/GSQ_block-d_mosaic_ref.dat'\n",
    "\n",
    "# set path to output convex hull continuum removed ENVI grid\n",
    "chull_fn = r'/storage/gsq_hymap/outputs/GSQ_block-d_mosaic_hull.dat'\n",
    "\n",
    "# open the ENVI\n",
    "with rasterio.open(hsi_fn,'r') as src:\n",
    "  # create a metadata file for the output\n",
    "  meta = src.meta.copy()\n",
    "  meta.update({'dtype':'int16', 'driver':'ENVI', 'nodata':-999})\n",
    "  # get a numpy array of the wavelegnths for each band, use band descriptions\n",
    "  wvl = np.array([float(x.strip('nm')) for x in src.descriptions])\n",
    "  # hymap spectra have a weird deep feature at 1390.4nm (band 62) that can interfere with the hull\n",
    "  mask_b62 = wvl != 1390.4 # create a boolean mask to identify the offending band for later \n",
    "  # open the output file\n",
    "  with rasterio.open(chull_fn,'w',**meta) as dst:\n",
    "    # iterate through the native blockwindows (rows in ENVI grids)\n",
    "    blockwindows = [x for x in src.block_windows()]\n",
    "    for ji, block in tqdm(blockwindows):\n",
    "      hsi_window = src.read(window=block)[:,0,:].T    # reshape window to (Npixels, Nwavelengths)\n",
    "      # iterate through pixels in blockwindow and perform convex hull continuum removal \n",
    "      cvxhul_window = hsi_window.copy()\n",
    "      for i, pix in enumerate(hsi_window):\n",
    "        if pix[0] != src.nodata: # only consider non-nodata pixels\n",
    "          fpix = np.interp(wvl, wvl[mask_b62], pix[mask_b62])       # linear interpolation to fix weird band 62 values\n",
    "          cvxhul = ConvexHull(np.vstack([fpix, wvl]).T)             # fit convex hull to fixed spectrum\n",
    "          vtx = np.sort(cvxhul.vertices)                            # get sorted vertices of the hull\n",
    "          hull = np.interp(np.arange(wvl.shape[0]), vtx, pix[vtx])  # linear interpolation of hull for all wavelengths \n",
    "          cvxhul_window[i] = pix - hull                             # remove hull from spectrum and place in output window\n",
    "      # write the convex hull removed data to the output file\n",
    "      dst_out = np.zeros((wvl.shape[0],1,cvxhul_window.shape[0]), dtype=cvxhul_window.dtype)\n",
    "      dst_out[:,0,:] = cvxhul_window.T\n",
    "      dst.write(dst_out, window=block)\n",
    "    # write band descriptions\n",
    "    for i, d in enumerate(src.descriptions):\n",
    "      dst.set_band_description(i+1, src.descriptions[i])\n",
    "    dst.close()\n",
    "  src.close()"
   ]
  },
  {
   "cell_type": "markdown",
   "metadata": {},
   "source": [
    "## 2. Validate Results\n",
    "\n",
    "Plot a random selection of pixels from the raw and convex hull removed data cube to confirm the above has worked."
   ]
  },
  {
   "cell_type": "code",
   "execution_count": null,
   "metadata": {},
   "outputs": [],
   "source": []
  },
  {
   "cell_type": "markdown",
   "metadata": {},
   "source": [
    "## 3. Calculate Calcite Abundance Index"
   ]
  }
 ],
 "metadata": {
  "kernelspec": {
   "display_name": "Python 3.9.13 ('rapidfastai_env')",
   "language": "python",
   "name": "python3"
  },
  "language_info": {
   "codemirror_mode": {
    "name": "ipython",
    "version": 3
   },
   "file_extension": ".py",
   "mimetype": "text/x-python",
   "name": "python",
   "nbconvert_exporter": "python",
   "pygments_lexer": "ipython3",
   "version": "3.9.13"
  },
  "orig_nbformat": 4,
  "vscode": {
   "interpreter": {
    "hash": "41a4c4a80ee682e8f521a4778e0c2289e0db7aa37ce3c228fb866fb7d74b6b0a"
   }
  }
 },
 "nbformat": 4,
 "nbformat_minor": 2
}
